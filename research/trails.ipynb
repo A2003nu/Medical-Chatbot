{
 "cells": [
  {
   "cell_type": "code",
   "execution_count": 1,
   "id": "a825ad3e",
   "metadata": {},
   "outputs": [
    {
     "name": "stdout",
     "output_type": "stream",
     "text": [
      "OK!\n"
     ]
    }
   ],
   "source": [
    "print(\"OK!\")"
   ]
  },
  {
   "cell_type": "code",
   "execution_count": 2,
   "id": "e5efe9d6",
   "metadata": {},
   "outputs": [],
   "source": [
    "import os\n",
    "import re\n",
    "from langchain.document_loaders import PyPDFLoader\n",
    "from langchain.schema import Document\n",
    "from langchain.text_splitter import RecursiveCharacterTextSplitter\n",
    "\n",
    "from langchain_community.embeddings import HuggingFaceEmbeddings\n",
    "\n",
    "from langchain.vectorstores import Pinecone\n",
    "from langchain.chains import create_retrieval_chain\n",
    "from langchain.prompts import ChatPromptTemplate\n",
    "from langchain_google_genai import ChatGoogleGenerativeAI\n",
    "\n",
    "from dotenv import load_dotenv\n",
    "import pinecone"
   ]
  },
  {
   "cell_type": "code",
   "execution_count": 3,
   "id": "916a4150",
   "metadata": {},
   "outputs": [],
   "source": [
    "import os\n",
    "os.chdir(\"../\")"
   ]
  },
  {
   "cell_type": "code",
   "execution_count": 4,
   "id": "5cbaf1c9",
   "metadata": {},
   "outputs": [
    {
     "data": {
      "text/plain": [
       "'c:\\\\Users\\\\user\\\\OneDrive\\\\Desktop\\\\Medical-Chatbot'"
      ]
     },
     "execution_count": 4,
     "metadata": {},
     "output_type": "execute_result"
    }
   ],
   "source": [
    "%pwd"
   ]
  },
  {
   "cell_type": "code",
   "execution_count": 5,
   "id": "5e0e9bf9",
   "metadata": {},
   "outputs": [
    {
     "data": {
      "text/plain": [
       "True"
      ]
     },
     "execution_count": 5,
     "metadata": {},
     "output_type": "execute_result"
    }
   ],
   "source": [
    "load_dotenv()"
   ]
  },
  {
   "cell_type": "code",
   "execution_count": 6,
   "id": "217f1d24",
   "metadata": {},
   "outputs": [],
   "source": [
    "PINECONE_API_KEY = os.getenv('PINECONE_API_KEY')\n",
    "GOOGLE_API_KEY = os.getenv('GOOGLE_API_KEY')"
   ]
  },
  {
   "cell_type": "code",
   "execution_count": 7,
   "id": "2ba06bda",
   "metadata": {},
   "outputs": [],
   "source": [
    "from pinecone import Pinecone, ServerlessSpec\n",
    "\n",
    "# Create the Pinecone instance\n",
    "pc = Pinecone(api_key=PINECONE_API_KEY)\n",
    "\n",
    "# Optional: Check if your index exists\n",
    "if \"medical-chatbot\" not in pc.list_indexes().names():\n",
    "    pc.create_index(\n",
    "        name=\"medical-chatbot\",\n",
    "        dimension=384,  # Use 384 if you're using all-MiniLM-L6-v2 embeddings\n",
    "        metric=\"cosine\",\n",
    "        spec=ServerlessSpec(\n",
    "            cloud=\"aws\",   # or \"gcp\"\n",
    "            region=\"us-west-2\"  # change if needed\n",
    "        )\n",
    "    )\n"
   ]
  },
  {
   "cell_type": "code",
   "execution_count": null,
   "id": "c21a95dd",
   "metadata": {},
   "outputs": [],
   "source": []
  },
  {
   "cell_type": "code",
   "execution_count": 8,
   "id": "04de2628",
   "metadata": {},
   "outputs": [],
   "source": [
    "def load_pdf(data):\n",
    "    all_docs = []\n",
    "    for filename in os.listdir(data):\n",
    "        if filename.endswith(\".pdf\"):\n",
    "            loader = PyPDFLoader(os.path.join(data, filename))\n",
    "            pages = loader.load()\n",
    "            all_docs.extend(pages[14:])  # Skip the first 14 pages (adjust this number if needed)\n",
    "    return all_docs"
   ]
  },
  {
   "cell_type": "code",
   "execution_count": 9,
   "id": "563da510",
   "metadata": {},
   "outputs": [],
   "source": [
    "def clean_text(text):\n",
    "    text = re.sub(r\"^GALE ENCYCLOPEDIA OF MEDICINE.*\", \"\", text)  # Remove lines starting with GALE ENCYCLOPEDIA OF MEDICINE\n",
    "    text = re.sub(r\"^GEM - .+\", \"\", text)  # Remove GEM metadata entirely\n",
    "    text = re.sub(r\"^Page \\d{1,3}.*\", \"\", text)  # Remove page number information\n",
    "    text = re.sub(r\"\\d{1,3}.*\", \"\", text)  # Remove any numeric references (like page numbers or codes)\n",
    "    text = re.sub(r\"Photograph.*\", \"\", text)  # Remove photograph references\n",
    "    text = re.sub(r\"Reproduced by permission.*\", \"\", text)  # Remove permission notice\n",
    "    text = re.sub(r\"\\s{2,}\", \" \", text)  # Replace multiple spaces with a single space\n",
    "    return text.strip()  # Strip trailing/leading spaces"
   ]
  },
  {
   "cell_type": "code",
   "execution_count": 10,
   "id": "4503533a",
   "metadata": {},
   "outputs": [],
   "source": [
    "def remove_metadata_from_documents(documents):\n",
    "    cleaned_documents = []\n",
    "    for doc in documents:\n",
    "        cleaned_content = clean_text(doc.page_content)\n",
    "        cleaned_documents.append(Document(page_content=cleaned_content))\n",
    "    return cleaned_documents"
   ]
  },
  {
   "cell_type": "code",
   "execution_count": 11,
   "id": "5368ccd6",
   "metadata": {},
   "outputs": [],
   "source": [
    "def text_split(extracted_data):\n",
    "    cleaned_docs = remove_metadata_from_documents(extracted_data)\n",
    "    text_splitter = RecursiveCharacterTextSplitter(chunk_size=500, chunk_overlap=20)\n",
    "    text_chunks = text_splitter.split_documents(cleaned_docs)\n",
    "    return text_chunks"
   ]
  },
  {
   "cell_type": "code",
   "execution_count": 12,
   "id": "3caed591",
   "metadata": {},
   "outputs": [],
   "source": [
    "extracted_data = load_pdf(\"data/\")\n",
    "text_chunks = text_split(extracted_data)"
   ]
  },
  {
   "cell_type": "code",
   "execution_count": 13,
   "id": "1916353c",
   "metadata": {},
   "outputs": [
    {
     "name": "stderr",
     "output_type": "stream",
     "text": [
      "C:\\Users\\user\\AppData\\Local\\Temp\\ipykernel_13728\\3727214851.py:1: LangChainDeprecationWarning: The class `HuggingFaceEmbeddings` was deprecated in LangChain 0.2.2 and will be removed in 1.0. An updated version of the class exists in the :class:`~langchain-huggingface package and should be used instead. To use it run `pip install -U :class:`~langchain-huggingface` and import as `from :class:`~langchain_huggingface import HuggingFaceEmbeddings``.\n",
      "  embeddings = HuggingFaceEmbeddings(model_name=\"sentence-transformers/all-MiniLM-L6-v2\")\n"
     ]
    }
   ],
   "source": [
    "embeddings = HuggingFaceEmbeddings(model_name=\"sentence-transformers/all-MiniLM-L6-v2\")\n",
    "\n",
    "\n",
    "\n",
    "from langchain_pinecone import PineconeVectorStore\n",
    "\n",
    "docsearch = PineconeVectorStore.from_documents(\n",
    "    documents=text_chunks,\n",
    "    embedding=embeddings,\n",
    "    index_name=\"medical-chatbot\"\n",
    ")\n"
   ]
  },
  {
   "cell_type": "code",
   "execution_count": 14,
   "id": "afddece1",
   "metadata": {},
   "outputs": [
    {
     "name": "stdout",
     "output_type": "stream",
     "text": [
      "\n",
      "Chunk 1:\n",
      "------------------------------\n",
      "Abdominal aorta ultrasound see Abdominal\n",
      "ultrasound\n",
      "Abdominal aortic aneurysm see Aortic\n",
      "aneurysm\n",
      "Abdominal hernia see Hernia\n",
      "Abdominal thrust see Heimlich maneuver\n",
      "Abdominal ultrasound\n",
      "Definition\n",
      "Ultrasound technology allows doctors to “see”\n",
      "inside a patient without resorting to surgery. A transmit-\n",
      "ter sends high frequency sound waves into the body,\n",
      "where they bounce off the different tissues and organs to\n",
      "produce a distinctive pattern of echoes. A receiver\n",
      "\n",
      "Chunk 2:\n",
      "------------------------------\n",
      "“hears” the returning echo pattern and forwards it to a\n",
      "computer, which translates the data into an image on a\n",
      "television screen. Because ultrasound can distinguish\n",
      "subtle variations between soft, fluid-filled tissues, it is\n",
      "particularly useful in providing diagnostic images of the\n",
      "abdomen. Ultrasound can also be used in treatment.\n",
      "Purpose\n",
      "The potential medical applications of ultrasound\n",
      "were first recognized in the sonar technology developed to detect submarines during\n",
      "\n",
      "Chunk 3:\n",
      "------------------------------\n",
      "World War II. The first useful medical images were pro-\n",
      "duced in the early ty had improved to the point that it came into general\n",
      "medical use. Improvements in the technology, applica-\n",
      "tion, and interpretation of ultrasound continue. Its low\n",
      "cost, versatility, safety and speed have brought it into the\n",
      "top drawer of medical imaging techniques.\n",
      "While pelvic ultrasound is widely known and com-\n",
      "monly used for fetal monitoring during pregnancy ,\n",
      "ultrasound is also routinely used for general abdominal\n"
     ]
    }
   ],
   "source": [
    "for i, chunk in enumerate(text_chunks[:3]):\n",
    "    print(f\"\\nChunk {i+1}:\\n{'-'*30}\")\n",
    "    print(chunk.page_content[:500])  # Print first 500 characters\n"
   ]
  },
  {
   "cell_type": "code",
   "execution_count": 15,
   "id": "8357990a",
   "metadata": {},
   "outputs": [],
   "source": [
    "retriever = docsearch.as_retriever(search_type=\"similarity\", search_kwargs={\"k\": 3})\n"
   ]
  },
  {
   "cell_type": "code",
   "execution_count": 16,
   "id": "3acd1893",
   "metadata": {},
   "outputs": [],
   "source": [
    "llm = ChatGoogleGenerativeAI(\n",
    "    model=\"models/gemini-1.5-flash-latest\",  # Use the appropriate model version\n",
    "    temperature=0.4,\n",
    "    max_output_tokens=500,\n",
    "    google_api_key=GOOGLE_API_KEY,\n",
    ")"
   ]
  },
  {
   "cell_type": "code",
   "execution_count": 17,
   "id": "273f41b9",
   "metadata": {},
   "outputs": [],
   "source": [
    "system_prompt = (\n",
    "    \"You are an assistant for question-answering tasks. \"\n",
    "    \"Use the following pieces of retrieved context to answer \"\n",
    "    \"the question. If you don't know the answer, say that you don't know, \"\n",
    "    \"Use a maximum of three sentences and keep the answer concise.\"\n",
    "    \"\\n\\n\"\n",
    "    \"{context}\"\n",
    ")"
   ]
  },
  {
   "cell_type": "code",
   "execution_count": 18,
   "id": "63cece47",
   "metadata": {},
   "outputs": [],
   "source": [
    "prompt = ChatPromptTemplate.from_messages([\n",
    "    (\"system\", system_prompt),\n",
    "    (\"human\", \"{input}\"),\n",
    "])"
   ]
  },
  {
   "cell_type": "code",
   "execution_count": 19,
   "id": "762219be",
   "metadata": {},
   "outputs": [],
   "source": [
    "from langchain_core.runnables import RunnableParallel, RunnableSequence, RunnableLambda\n",
    "from langchain.chains import create_retrieval_chain\n",
    "from langchain_community.embeddings import HuggingFaceEmbeddings\n",
    "from langchain.chains.combine_documents import create_stuff_documents_chain\n",
    "from langchain_core.prompts import ChatPromptTemplate\n",
    "from langchain_core.output_parsers import StrOutputParser\n",
    "\n",
    "# Define the input mapper\n",
    "input_mapper = RunnableParallel({\n",
    "    \"context\": retriever,  # Ensure retriever is a valid retriever object\n",
    "    \"input\": RunnableLambda(lambda x: x)  # Pass the question as 'input'\n",
    "})"
   ]
  },
  {
   "cell_type": "code",
   "execution_count": 20,
   "id": "d52c1212",
   "metadata": {},
   "outputs": [],
   "source": [
    "from langchain.chains.combine_documents import create_stuff_documents_chain\n",
    "from langchain_core.prompts import ChatPromptTemplate\n",
    "from langchain_core.output_parsers import StrOutputParser  \n",
    "\n",
    "question_answer_chain = create_stuff_documents_chain(llm, prompt)"
   ]
  },
  {
   "cell_type": "code",
   "execution_count": 21,
   "id": "5a69d25a",
   "metadata": {},
   "outputs": [],
   "source": [
    "rag_chain = RunnableSequence(input_mapper, question_answer_chain)"
   ]
  },
  {
   "cell_type": "code",
   "execution_count": 22,
   "id": "2f75a2ac",
   "metadata": {},
   "outputs": [
    {
     "name": "stdout",
     "output_type": "stream",
     "text": [
      "Acne is a common skin disease characterized by pimples on the face, chest, and back.  It's caused by clogged pores due to oil, dead skin cells, and bacteria.  Acne vulgaris is the medical term for common acne, and it's the most prevalent skin disease.\n"
     ]
    }
   ],
   "source": [
    "response = rag_chain.invoke(\"What is Acne?\")\n",
    "print(response)\n"
   ]
  },
  {
   "cell_type": "code",
   "execution_count": 23,
   "id": "78a3429c",
   "metadata": {},
   "outputs": [
    {
     "name": "stdout",
     "output_type": "stream",
     "text": [
      "Achalasia is a disorder of the esophagus that prevents normal swallowing.  It affects the esophagus, the tube carrying food from the throat to the stomach.  The disorder involves a malfunction of the lower esophageal muscle ring.\n"
     ]
    }
   ],
   "source": [
    "response = rag_chain.invoke(\"What is Achalasia?\")\n",
    "print(response)\n"
   ]
  }
 ],
 "metadata": {
  "kernelspec": {
   "display_name": "medibot",
   "language": "python",
   "name": "python3"
  },
  "language_info": {
   "codemirror_mode": {
    "name": "ipython",
    "version": 3
   },
   "file_extension": ".py",
   "mimetype": "text/x-python",
   "name": "python",
   "nbconvert_exporter": "python",
   "pygments_lexer": "ipython3",
   "version": "3.10.16"
  }
 },
 "nbformat": 4,
 "nbformat_minor": 5
}
