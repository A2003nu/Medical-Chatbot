{
 "cells": [
  {
   "cell_type": "code",
   "execution_count": 1,
   "id": "a825ad3e",
   "metadata": {},
   "outputs": [
    {
     "name": "stdout",
     "output_type": "stream",
     "text": [
      "OK!\n"
     ]
    }
   ],
   "source": [
    "print(\"OK!\")"
   ]
  },
  {
   "cell_type": "code",
   "execution_count": 2,
   "id": "e5efe9d6",
   "metadata": {},
   "outputs": [
    {
     "name": "stderr",
     "output_type": "stream",
     "text": [
      "c:\\Users\\user\\Anaconda3\\envs\\medibot\\lib\\site-packages\\tqdm\\auto.py:21: TqdmWarning: IProgress not found. Please update jupyter and ipywidgets. See https://ipywidgets.readthedocs.io/en/stable/user_install.html\n",
      "  from .autonotebook import tqdm as notebook_tqdm\n"
     ]
    }
   ],
   "source": [
    "from langchain import PromptTemplate\n",
    "from langchain.chains import RetrievalQA\n",
    "from langchain.embeddings import HuggingFaceEmbeddings\n",
    "from langchain.vectorstores import Pinecone\n",
    "import pinecone\n",
    "from langchain.document_loaders import PyPDFLoader, DirectoryLoader\n",
    "from langchain.text_splitter import RecursiveCharacterTextSplitter\n",
    "from langchain.prompts import PromptTemplate\n",
    "from langchain.llms import CTransformers"
   ]
  },
  {
   "cell_type": "code",
   "execution_count": null,
   "id": "614ef587",
   "metadata": {},
   "outputs": [],
   "source": []
  },
  {
   "cell_type": "code",
   "execution_count": 3,
   "id": "916a4150",
   "metadata": {},
   "outputs": [],
   "source": [
    "import os\n",
    "os.chdir(\"../\")"
   ]
  },
  {
   "cell_type": "code",
   "execution_count": 4,
   "id": "5cbaf1c9",
   "metadata": {},
   "outputs": [
    {
     "data": {
      "text/plain": [
       "'c:\\\\Users\\\\user\\\\OneDrive\\\\Desktop\\\\Medical-Chatbot'"
      ]
     },
     "execution_count": 4,
     "metadata": {},
     "output_type": "execute_result"
    }
   ],
   "source": [
    "%pwd"
   ]
  },
  {
   "cell_type": "code",
   "execution_count": null,
   "id": "5e0e9bf9",
   "metadata": {},
   "outputs": [],
   "source": [
    "# Extract data from the PDF\n",
    "def load_pdf(data):\n",
    "    from langchain.document_loaders import PyPDFLoader\n",
    "    import os\n",
    "\n",
    "    all_docs = []\n",
    "    for filename in os.listdir(data):\n",
    "        if filename.endswith(\".pdf\"):\n",
    "            loader = PyPDFLoader(os.path.join(data, filename))\n",
    "            pages = loader.load()\n",
    "            # Skip the first 14 pages (adjust this number if needed)\n",
    "            all_docs.extend(pages[14:])\n",
    "\n",
    "    return all_docs\n",
    "\n",
    "extracted_data = load_pdf(\"data/\")\n"
   ]
  },
  {
   "cell_type": "code",
   "execution_count": 6,
   "id": "1613fe33",
   "metadata": {},
   "outputs": [],
   "source": [
    "\n",
    "import re\n",
    "\n",
    "\n",
    "def clean_text(text):\n",
    "    lines = text.split(\"\\n\")\n",
    "    clean_lines = [\n",
    "        line for line in lines\n",
    "        if not line.strip().isdigit()  # Remove page numbers\n",
    "        and not re.match(r\"^GALE ENCYCLOPEDIA OF MEDICINE\", line.strip())\n",
    "    ]\n",
    "    return \"\\n\".join(clean_lines)\n",
    "\n",
    "def text_split(extracted_data):\n",
    "    from langchain.schema import Document\n",
    "    cleaned_docs = []\n",
    "    for doc in extracted_data:\n",
    "        cleaned_content = clean_text(doc.page_content)\n",
    "        cleaned_docs.append(Document(page_content=cleaned_content))\n",
    "\n",
    "    text_splitter = RecursiveCharacterTextSplitter(chunk_size=500, chunk_overlap=20)\n",
    "    text_chunks = text_splitter.split_documents(cleaned_docs)\n",
    "\n",
    "    return text_chunks\n"
   ]
  },
  {
   "cell_type": "code",
   "execution_count": 7,
   "id": "5c5c404d",
   "metadata": {},
   "outputs": [
    {
     "name": "stdout",
     "output_type": "stream",
     "text": [
      "length of my chunk: 7207\n"
     ]
    }
   ],
   "source": [
    "\n",
    "text_chunks = text_split(extracted_data)\n",
    "print(\"length of my chunk:\", len(text_chunks))"
   ]
  },
  {
   "cell_type": "code",
   "execution_count": 8,
   "id": "2c226289",
   "metadata": {},
   "outputs": [
    {
     "name": "stdout",
     "output_type": "stream",
     "text": [
      "\n",
      "Chunk 1:\n",
      "------------------------------\n",
      "Abdominal aorta ultrasound see Abdominal\n",
      "ultrasound\n",
      "Abdominal aortic aneurysm see Aortic\n",
      "aneurysm\n",
      "Abdominal hernia see Hernia\n",
      "Abdominal thrust see Heimlich maneuver\n",
      "Abdominal ultrasound\n",
      "Definition\n",
      "Ultrasound technology allows doctors to “see”\n",
      "inside a patient without resorting to surgery. A transmit-\n",
      "ter sends high frequency sound waves into the body,\n",
      "where they bounce off the different tissues and organs to\n",
      "produce a distinctive pattern of echoes. A receiver\n",
      "\n",
      "Chunk 2:\n",
      "------------------------------\n",
      "“hears” the returning echo pattern and forwards it to a\n",
      "computer, which translates the data into an image on a\n",
      "television screen. Because ultrasound can distinguish\n",
      "subtle variations between soft, fluid-filled tissues, it is\n",
      "particularly useful in providing diagnostic images of the\n",
      "abdomen. Ultrasound can also be used in treatment.\n",
      "Purpose\n",
      "The potential medical applications of ultrasound\n",
      "were first recognized in the 1940s as an outgrowth of the\n",
      "\n",
      "Chunk 3:\n",
      "------------------------------\n",
      "sonar technology developed to detect submarines during\n",
      "World War II. The first useful medical images were pro-\n",
      "duced in the early 1950s, and, by 1965, ultrasound quali-\n",
      "ty had improved to the point that it came into general\n",
      "medical use. Improvements in the technology, applica-\n",
      "tion, and interpretation of ultrasound continue. Its low\n",
      "cost, versatility, safety and speed have brought it into the\n",
      "top drawer of medical imaging techniques.\n",
      "While pelvic ultrasound is widely known and com-\n"
     ]
    }
   ],
   "source": [
    "for i, chunk in enumerate(text_chunks[:3]):\n",
    "    print(f\"\\nChunk {i+1}:\\n{'-'*30}\")\n",
    "    print(chunk.page_content[:500])  # First 500 chars\n"
   ]
  },
  {
   "cell_type": "code",
   "execution_count": 9,
   "id": "3d2f8034",
   "metadata": {},
   "outputs": [],
   "source": [
    "def download_hugging_face_embeddings():\n",
    "    embeddings = HuggingFaceEmbeddings(model_name=\"sentence-transformers/all-MiniLM-L6-v2\")\n",
    "    return embeddings"
   ]
  },
  {
   "cell_type": "code",
   "execution_count": 10,
   "id": "4a6ab464",
   "metadata": {},
   "outputs": [
    {
     "name": "stderr",
     "output_type": "stream",
     "text": [
      "C:\\Users\\user\\AppData\\Local\\Temp\\ipykernel_520\\4238859041.py:2: LangChainDeprecationWarning: The class `HuggingFaceEmbeddings` was deprecated in LangChain 0.2.2 and will be removed in 1.0. An updated version of the class exists in the :class:`~langchain-huggingface package and should be used instead. To use it run `pip install -U :class:`~langchain-huggingface` and import as `from :class:`~langchain_huggingface import HuggingFaceEmbeddings``.\n",
      "  embeddings = HuggingFaceEmbeddings(model_name=\"sentence-transformers/all-MiniLM-L6-v2\")\n"
     ]
    }
   ],
   "source": [
    "embeddings = download_hugging_face_embeddings()"
   ]
  },
  {
   "cell_type": "code",
   "execution_count": 11,
   "id": "4a183cd3",
   "metadata": {},
   "outputs": [
    {
     "data": {
      "text/plain": [
       "HuggingFaceEmbeddings(client=SentenceTransformer(\n",
       "  (0): Transformer({'max_seq_length': 256, 'do_lower_case': False}) with Transformer model: BertModel \n",
       "  (1): Pooling({'word_embedding_dimension': 384, 'pooling_mode_cls_token': False, 'pooling_mode_mean_tokens': True, 'pooling_mode_max_tokens': False, 'pooling_mode_mean_sqrt_len_tokens': False})\n",
       "  (2): Normalize()\n",
       "), model_name='sentence-transformers/all-MiniLM-L6-v2', cache_folder=None, model_kwargs={}, encode_kwargs={}, multi_process=False, show_progress=False)"
      ]
     },
     "execution_count": 11,
     "metadata": {},
     "output_type": "execute_result"
    }
   ],
   "source": [
    "embeddings"
   ]
  },
  {
   "cell_type": "code",
   "execution_count": 12,
   "id": "a8ba4a47",
   "metadata": {},
   "outputs": [
    {
     "name": "stdout",
     "output_type": "stream",
     "text": [
      "Length 384\n"
     ]
    }
   ],
   "source": [
    "query_result = embeddings.embed_query(\"Hello world\")\n",
    "print(\"Length\", len(query_result))"
   ]
  },
  {
   "cell_type": "code",
   "execution_count": 13,
   "id": "7e8e019d",
   "metadata": {},
   "outputs": [
    {
     "data": {
      "text/plain": [
       "True"
      ]
     },
     "execution_count": 13,
     "metadata": {},
     "output_type": "execute_result"
    }
   ],
   "source": [
    "from dotenv import load_dotenv\n",
    "load_dotenv()"
   ]
  },
  {
   "cell_type": "markdown",
   "id": "2c862196",
   "metadata": {},
   "source": []
  },
  {
   "cell_type": "code",
   "execution_count": 14,
   "id": "c8b5decd",
   "metadata": {},
   "outputs": [
    {
     "name": "stdout",
     "output_type": "stream",
     "text": [
      "Key length: 75 characters\n"
     ]
    }
   ],
   "source": [
    "PINECONE_API_KEY=os.getenv('PINECONE_API_Key')\n",
    "print(f\"Key length: {len(PINECONE_API_KEY)} characters\") "
   ]
  },
  {
   "cell_type": "code",
   "execution_count": null,
   "id": "5045cff3",
   "metadata": {},
   "outputs": [
    {
     "name": "stdout",
     "output_type": "stream",
     "text": [
      "API key configured: True\n",
      "Key length: 39 characters\n"
     ]
    }
   ],
   "source": [
    "GOOGLE_API_KEY=os.getenv('GOOGLE_API_KEY')\n",
    "print(\"API key configured:\", bool(os.getenv(\"GOOGLE_API_KEY\")))\n",
    "print(f\"Key length: {len(GOOGLE_API_KEY)} characters\") "
   ]
  },
  {
   "cell_type": "code",
   "execution_count": 16,
   "id": "28267353",
   "metadata": {},
   "outputs": [],
   "source": [
    "\n",
    "from langchain_pinecone import PineconeVectorStore\n",
    "\n",
    "docsearch=PineconeVectorStore.from_documents(\n",
    "    documents=text_chunks,\n",
    "    index_name='medical-chatbot',\n",
    "    embedding=embeddings,\n",
    ")"
   ]
  },
  {
   "cell_type": "code",
   "execution_count": 17,
   "id": "88e5b4c1",
   "metadata": {},
   "outputs": [],
   "source": [
    "retriever=docsearch.as_retriever(search_type=\"similarity\",search_kwargs={\"k\":3})"
   ]
  },
  {
   "cell_type": "code",
   "execution_count": 18,
   "id": "3b789a4c",
   "metadata": {},
   "outputs": [],
   "source": [
    "retriever_docs=retriever.invoke(\"what is Acne\")"
   ]
  },
  {
   "cell_type": "code",
   "execution_count": 19,
   "id": "6ae1395e",
   "metadata": {},
   "outputs": [
    {
     "data": {
      "text/plain": [
       "[Document(id='7cf5c925-d946-4abf-becf-946d153b482d', metadata={'creationdate': '2004-12-18T17:00:02-05:00', 'creator': 'PyPDF', 'moddate': '2004-12-18T16:15:31-06:00', 'page': 39.0, 'page_label': '40', 'producer': 'PDFlib+PDI 5.0.0 (SunOS)', 'source': 'data\\\\Medical_book.pdf', 'total_pages': 637.0}, page_content='GALE ENCYCLOPEDIA OF MEDICINE 226\\nAcne\\nGEM - 0001 to 0432 - A  10/22/03 1:41 PM  Page 26'),\n",
       " Document(id='72daf663-e280-4008-be9a-adda2cbab451', metadata={'creationdate': '2004-12-18T17:00:02-05:00', 'creator': 'PyPDF', 'moddate': '2004-12-18T16:15:31-06:00', 'page': 39.0, 'page_label': '40', 'producer': 'PDFlib+PDI 5.0.0 (SunOS)', 'source': 'data\\\\Medical_book.pdf', 'total_pages': 637.0}, page_content='GALE ENCYCLOPEDIA OF MEDICINE 226\\nAcne\\nGEM - 0001 to 0432 - A  10/22/03 1:41 PM  Page 26'),\n",
       " Document(id='92474467-1056-4ce8-b387-ae79bcbe1860', metadata={'creationdate': '2004-12-18T17:00:02-05:00', 'creator': 'PyPDF', 'moddate': '2004-12-18T16:15:31-06:00', 'page': 39.0, 'page_label': '40', 'producer': 'PDFlib+PDI 5.0.0 (SunOS)', 'source': 'data\\\\Medical_book.pdf', 'total_pages': 637.0}, page_content='GALE ENCYCLOPEDIA OF MEDICINE 226\\nAcne\\nGEM - 0001 to 0432 - A  10/22/03 1:41 PM  Page 26')]"
      ]
     },
     "execution_count": 19,
     "metadata": {},
     "output_type": "execute_result"
    }
   ],
   "source": [
    "retriever_docs"
   ]
  },
  {
   "cell_type": "code",
   "execution_count": null,
   "id": "252898e2",
   "metadata": {},
   "outputs": [],
   "source": [
    "from langchain_google_genai import ChatGoogleGenerativeAI\n",
    "\n",
    "llm = ChatGoogleGenerativeAI(\n",
    "    model=\"models/gemini-1.5-flash-latest\",  # Most widely available\n",
    "    # model=\"gemini-1.5-pro-latest\",  # If you have access\n",
    "    # model=\"gemini-pro\",  # Legacy name\n",
    "    temperature=0.4,\n",
    "    max_output_tokens=500,\n",
    "    google_api_key=GOOGLE_API_KEY\n",
    ")\n"
   ]
  },
  {
   "cell_type": "code",
   "execution_count": 31,
   "id": "c8b3a4da",
   "metadata": {},
   "outputs": [],
   "source": [
    "from langchain.chains import create_retrieval_chain\n",
    "from langchain.chains.combine_documents import create_stuff_documents_chain\n",
    "from langchain_core.prompts import ChatPromptTemplate\n",
    "\n",
    "system_prompt=(\n",
    "    \"You are an assistant for question-answering tasks. \"\n",
    "    \"Use the following pieces of retrieved context to answer \"\n",
    "    \"the question.If you don't know the answer,say that you \"\n",
    "    \"don't know,Use three sentences maximum and keep the \"\n",
    "    \"answer concise.\"\n",
    "    \"\\n\\n\"\n",
    "    \"{context}\"\n",
    ")\n",
    "\n",
    "prompt=ChatPromptTemplate.from_messages(\n",
    "    [\n",
    "        (\"system\",system_prompt),\n",
    "        (\"human\",\"{input}\"),\n",
    "    ]\n",
    ")"
   ]
  },
  {
   "cell_type": "code",
   "execution_count": 32,
   "id": "44e988f0",
   "metadata": {},
   "outputs": [],
   "source": [
    "question_answer_chain=create_stuff_documents_chain(llm,prompt)\n",
    "rag_chain=create_retrieval_chain(retriever,question_answer_chain)"
   ]
  },
  {
   "cell_type": "code",
   "execution_count": 41,
   "id": "39a78d12",
   "metadata": {},
   "outputs": [
    {
     "name": "stdout",
     "output_type": "stream",
     "text": [
      "I am sorry, but this document only contains metadata and does not provide a definition of acne.  I do not know what acne is.\n"
     ]
    }
   ],
   "source": [
    "response=rag_chain.invoke({\"input\":\"What is Acne?\"})\n",
    "print(response[\"answer\"])"
   ]
  },
  {
   "cell_type": "markdown",
   "id": "36a56533",
   "metadata": {},
   "source": []
  },
  {
   "cell_type": "code",
   "execution_count": 25,
   "id": "cd76e0b3",
   "metadata": {},
   "outputs": [
    {
     "name": "stdout",
     "output_type": "stream",
     "text": [
      "Available models:\n",
      "- models/gemini-1.0-pro-vision-latest (supports: ['generateContent', 'countTokens'])\n",
      "- models/gemini-pro-vision (supports: ['generateContent', 'countTokens'])\n",
      "- models/gemini-1.5-pro-latest (supports: ['generateContent', 'countTokens'])\n",
      "- models/gemini-1.5-pro-001 (supports: ['generateContent', 'countTokens', 'createCachedContent'])\n",
      "- models/gemini-1.5-pro-002 (supports: ['generateContent', 'countTokens', 'createCachedContent'])\n",
      "- models/gemini-1.5-pro (supports: ['generateContent', 'countTokens'])\n",
      "- models/gemini-1.5-flash-latest (supports: ['generateContent', 'countTokens'])\n",
      "- models/gemini-1.5-flash-001 (supports: ['generateContent', 'countTokens', 'createCachedContent'])\n",
      "- models/gemini-1.5-flash-001-tuning (supports: ['generateContent', 'countTokens', 'createTunedModel'])\n",
      "- models/gemini-1.5-flash (supports: ['generateContent', 'countTokens'])\n",
      "- models/gemini-1.5-flash-002 (supports: ['generateContent', 'countTokens', 'createCachedContent'])\n",
      "- models/gemini-1.5-flash-8b (supports: ['createCachedContent', 'generateContent', 'countTokens'])\n",
      "- models/gemini-1.5-flash-8b-001 (supports: ['createCachedContent', 'generateContent', 'countTokens'])\n",
      "- models/gemini-1.5-flash-8b-latest (supports: ['createCachedContent', 'generateContent', 'countTokens'])\n",
      "- models/gemini-1.5-flash-8b-exp-0827 (supports: ['generateContent', 'countTokens'])\n",
      "- models/gemini-1.5-flash-8b-exp-0924 (supports: ['generateContent', 'countTokens'])\n",
      "- models/gemini-2.5-pro-exp-03-25 (supports: ['generateContent', 'countTokens', 'createCachedContent'])\n",
      "- models/gemini-2.5-pro-preview-03-25 (supports: ['generateContent', 'countTokens', 'createCachedContent'])\n",
      "- models/gemini-2.5-flash-preview-04-17 (supports: ['generateContent', 'countTokens', 'createCachedContent'])\n",
      "- models/gemini-2.5-flash-preview-04-17-thinking (supports: ['generateContent', 'countTokens', 'createCachedContent'])\n",
      "- models/gemini-2.5-pro-preview-05-06 (supports: ['generateContent', 'countTokens', 'createCachedContent'])\n",
      "- models/gemini-2.0-flash-exp (supports: ['generateContent', 'countTokens', 'bidiGenerateContent'])\n",
      "- models/gemini-2.0-flash (supports: ['generateContent', 'countTokens', 'createCachedContent'])\n",
      "- models/gemini-2.0-flash-001 (supports: ['generateContent', 'countTokens', 'createCachedContent'])\n",
      "- models/gemini-2.0-flash-exp-image-generation (supports: ['generateContent', 'countTokens', 'bidiGenerateContent'])\n",
      "- models/gemini-2.0-flash-lite-001 (supports: ['generateContent', 'countTokens', 'createCachedContent'])\n",
      "- models/gemini-2.0-flash-lite (supports: ['generateContent', 'countTokens', 'createCachedContent'])\n",
      "- models/gemini-2.0-flash-preview-image-generation (supports: ['generateContent', 'countTokens'])\n",
      "- models/gemini-2.0-flash-lite-preview-02-05 (supports: ['generateContent', 'countTokens', 'createCachedContent'])\n",
      "- models/gemini-2.0-flash-lite-preview (supports: ['generateContent', 'countTokens', 'createCachedContent'])\n",
      "- models/gemini-2.0-pro-exp (supports: ['generateContent', 'countTokens', 'createCachedContent'])\n",
      "- models/gemini-2.0-pro-exp-02-05 (supports: ['generateContent', 'countTokens', 'createCachedContent'])\n",
      "- models/gemini-exp-1206 (supports: ['generateContent', 'countTokens', 'createCachedContent'])\n",
      "- models/gemini-2.0-flash-thinking-exp-01-21 (supports: ['generateContent', 'countTokens', 'createCachedContent'])\n",
      "- models/gemini-2.0-flash-thinking-exp (supports: ['generateContent', 'countTokens', 'createCachedContent'])\n",
      "- models/gemini-2.0-flash-thinking-exp-1219 (supports: ['generateContent', 'countTokens', 'createCachedContent'])\n",
      "- models/gemini-embedding-exp-03-07 (supports: ['embedContent', 'countTextTokens'])\n",
      "- models/gemini-embedding-exp (supports: ['embedContent', 'countTextTokens'])\n",
      "- models/gemini-2.0-flash-live-001 (supports: ['bidiGenerateContent', 'countTokens'])\n"
     ]
    }
   ],
   "source": [
    "import google.generativeai as genai\n",
    "genai.configure(api_key=GOOGLE_API_KEY)\n",
    "\n",
    "print(\"Available models:\")\n",
    "for m in genai.list_models():\n",
    "    if \"gemini\" in m.name:\n",
    "        print(f\"- {m.name} (supports: {m.supported_generation_methods})\")"
   ]
  },
  {
   "cell_type": "code",
   "execution_count": 24,
   "id": "2de8818a",
   "metadata": {},
   "outputs": [
    {
     "name": "stdout",
     "output_type": "stream",
     "text": [
      "Retrieved 3 documents\n",
      "\n",
      "Document 1:\n",
      "GALE ENCYCLOPEDIA OF MEDICINE 226\n",
      "Acne\n",
      "GEM - 0001 to 0432 - A  10/22/03 1:41 PM  Page 26...\n",
      "\n",
      "Document 2:\n",
      "GALE ENCYCLOPEDIA OF MEDICINE 226\n",
      "Acne\n",
      "GEM - 0001 to 0432 - A  10/22/03 1:41 PM  Page 26...\n",
      "\n",
      "Document 3:\n",
      "GALE ENCYCLOPEDIA OF MEDICINE 226\n",
      "Acne\n",
      "GEM - 0001 to 0432 - A  10/22/03 1:41 PM  Page 26...\n"
     ]
    }
   ],
   "source": [
    "# Test your retriever directly\n",
    "test_docs = retriever.invoke(\"What is acne?\")\n",
    "print(f\"Retrieved {len(test_docs)} documents\")\n",
    "for i, doc in enumerate(test_docs):\n",
    "    print(f\"\\nDocument {i+1}:\")\n",
    "    print(doc.page_content[:300] + \"...\")  # Show first 300 characters"
   ]
  },
  {
   "cell_type": "code",
   "execution_count": 34,
   "id": "232add7b",
   "metadata": {},
   "outputs": [
    {
     "name": "stdout",
     "output_type": "stream",
     "text": [
      "\n",
      "Chunk 1:\n",
      "------------------------------\n",
      "GALE ENCYCLOPEDIA OF MEDICINE 226\n",
      "Acne\n",
      "GEM - 0001 to 0432 - A  10/22/03 1:41 PM  Page 26\n",
      "\n",
      "Chunk 2:\n",
      "------------------------------\n",
      "GALE ENCYCLOPEDIA OF MEDICINE 226\n",
      "Acne\n",
      "GEM - 0001 to 0432 - A  10/22/03 1:41 PM  Page 26\n",
      "\n",
      "Chunk 3:\n",
      "------------------------------\n",
      "GALE ENCYCLOPEDIA OF MEDICINE 226\n",
      "Acne\n",
      "GEM - 0001 to 0432 - A  10/22/03 1:41 PM  Page 26\n"
     ]
    }
   ],
   "source": [
    "retriever_docs = retriever.invoke(\"What is Acne?\")\n",
    "for i, doc in enumerate(retriever_docs):\n",
    "    print(f\"\\nChunk {i+1}:\\n{'-'*30}\\n{doc.page_content}\")\n"
   ]
  },
  {
   "cell_type": "code",
   "execution_count": 37,
   "id": "fb706386",
   "metadata": {},
   "outputs": [],
   "source": [
    "import re\n",
    "\n",
    "def clean_text(text):\n",
    "    # Removing metadata patterns such as page numbers and \"GEM\" information\n",
    "    text = re.sub(r\"^GALE ENCYCLOPEDIA OF MEDICINE.*\", \"\", text)  # Remove any line starting with GALE ENCYCLOPEDIA OF MEDICINE\n",
    "    text = re.sub(r\"^.*GEM - \\d{4}.*\", \"\", text)  # Remove GEM metadata\n",
    "    text = re.sub(r\"^.*Page \\d{1,3}.*\", \"\", text)  # Remove page information\n",
    "    text = re.sub(r\"\\d{1,3}.*\", \"\", text)  # Remove any page number references\n",
    "    text = re.sub(r\"\\s{2,}\", \" \", text)  # Replace multiple spaces with a single space\n",
    "\n",
    "    # Also remove anything that does not appear relevant like medical references that don’t contribute to the main text\n",
    "    return text.strip()\n",
    "\n"
   ]
  },
  {
   "cell_type": "code",
   "execution_count": null,
   "id": "51298095",
   "metadata": {},
   "outputs": [],
   "source": []
  },
  {
   "cell_type": "code",
   "execution_count": 38,
   "id": "c8b3a3f1",
   "metadata": {},
   "outputs": [
    {
     "name": "stdout",
     "output_type": "stream",
     "text": [
      "\n",
      "Document 1:\n",
      "Acne\n",
      "Acne vulgaris affecting a woman’s face. Acne is the general\n",
      "name given to a skin disorder in which the sebaceous\n",
      "glands become inflamed.(Photograph by Biophoto Associ-\n",
      "ates, Photo Researchers, Inc. Reproduced by permission.)\n",
      "\n",
      "Document 2:\n",
      "Acne\n",
      "Acne vulgaris affecting a woman’s face. Acne is the general\n",
      "name given to a skin disorder in which the sebaceous\n",
      "glands become inflamed.(Photograph by Biophoto Associ-\n",
      "ates, Photo Researchers, Inc. Reproduced by permission.)\n",
      "\n",
      "Document 3:\n",
      "GALE ENCYCLOPEDIA OF MEDICINE 2 25\n",
      "Acne\n",
      "Acne vulgaris affecting a woman’s face. Acne is the general\n",
      "name given to a skin disorder in which the sebaceous\n",
      "glands become inflamed.(Photograph by Biophoto Associ-\n",
      "ates, Photo Researchers, Inc. Reproduced by permission.)\n",
      "GEM - 0001 to 0432 - A  10/22/03 1:41 PM  Page 25\n"
     ]
    }
   ],
   "source": [
    "test_docs = retriever.invoke(\"What is acne? Define acne and describe its causes.\")\n",
    "\n",
    "for i, doc in enumerate(test_docs):\n",
    "    print(f\"\\nDocument {i+1}:\")\n",
    "    print(doc.page_content[:500])  # Show first 500 characters to verify the content.\n"
   ]
  },
  {
   "cell_type": "code",
   "execution_count": 39,
   "id": "ae155ac2",
   "metadata": {},
   "outputs": [
    {
     "name": "stdout",
     "output_type": "stream",
     "text": [
      "\n",
      "Cleaned Document 1:\n",
      "Acne\n",
      "Acne vulgaris affecting a woman’s face. Acne is the general\n",
      "name given to a skin disorder in which the sebaceous\n",
      "glands become inflamed.(\n",
      "ates, Photo Researchers, Inc. Reproduced by permission.)\n",
      "\n",
      "Cleaned Document 2:\n",
      "Acne\n",
      "Acne vulgaris affecting a woman’s face. Acne is the general\n",
      "name given to a skin disorder in which the sebaceous\n",
      "glands become inflamed.(\n",
      "ates, Photo Researchers, Inc. Reproduced by permission.)\n",
      "\n",
      "Cleaned Document 3:\n",
      "Acne\n",
      "Acne vulgaris affecting a woman’s face. Acne is the general\n",
      "name given to a skin disorder in which the sebaceous\n",
      "glands become inflamed.(\n",
      "ates, Photo Researchers, Inc. Reproduced by permission.)\n",
      "GEM -\n"
     ]
    }
   ],
   "source": [
    "import re\n",
    "\n",
    "def clean_text(text):\n",
    "    # Remove metadata patterns\n",
    "    text = re.sub(r\"^GALE ENCYCLOPEDIA OF MEDICINE.*\", \"\", text)  # Remove lines starting with GALE ENCYCLOPEDIA OF MEDICINE\n",
    "    text = re.sub(r\"^GEM - \\d{4}.*\", \"\", text)  # Remove GEM metadata\n",
    "    text = re.sub(r\"^Page \\d{1,3}.*\", \"\", text)  # Remove page number information\n",
    "    text = re.sub(r\"\\d{1,3}.*\", \"\", text)  # Remove any page number references\n",
    "    text = re.sub(r\"Photograph.*\", \"\", text)  # Remove any photograph references\n",
    "    text = re.sub(r\"\\s{2,}\", \" \", text)  # Replace multiple spaces with a single space\n",
    "\n",
    "    return text.strip()\n",
    "\n",
    "# After retrieval, clean the documents\n",
    "def remove_metadata_from_documents(documents):\n",
    "    cleaned_documents = []\n",
    "    for doc in documents:\n",
    "        cleaned_content = clean_text(doc.page_content)\n",
    "        cleaned_documents.append(cleaned_content)\n",
    "    return cleaned_documents\n",
    "\n",
    "# Apply cleaning to the retrieved documents\n",
    "test_docs_cleaned = remove_metadata_from_documents(test_docs)\n",
    "\n",
    "# Print the cleaned documents\n",
    "for i, doc in enumerate(test_docs_cleaned):\n",
    "    print(f\"\\nCleaned Document {i+1}:\")\n",
    "    print(doc[:500])  # Show first 500 characters of the cleaned document\n"
   ]
  },
  {
   "cell_type": "code",
   "execution_count": 40,
   "id": "38ecc6dc",
   "metadata": {},
   "outputs": [
    {
     "name": "stdout",
     "output_type": "stream",
     "text": [
      "\n",
      "Cleaned Document 1:\n",
      "Acne\n",
      "Acne vulgaris affecting a woman’s face. Acne is the general\n",
      "name given to a skin disorder in which the sebaceous\n",
      "glands become inflamed.(\n",
      "ates, Photo Researchers, Inc.\n",
      "\n",
      "Cleaned Document 2:\n",
      "Acne\n",
      "Acne vulgaris affecting a woman’s face. Acne is the general\n",
      "name given to a skin disorder in which the sebaceous\n",
      "glands become inflamed.(\n",
      "ates, Photo Researchers, Inc.\n",
      "\n",
      "Cleaned Document 3:\n",
      "Acne\n",
      "Acne vulgaris affecting a woman’s face. Acne is the general\n",
      "name given to a skin disorder in which the sebaceous\n",
      "glands become inflamed.(\n",
      "ates, Photo Researchers, Inc. GEM -\n"
     ]
    }
   ],
   "source": [
    "import re\n",
    "\n",
    "def clean_text(text):\n",
    "    # Remove any metadata or unwanted lines\n",
    "    text = re.sub(r\"^GALE ENCYCLOPEDIA OF MEDICINE.*\", \"\", text)  # Remove lines starting with GALE ENCYCLOPEDIA OF MEDICINE\n",
    "    text = re.sub(r\"^GEM - .+\", \"\", text)  # Remove GEM metadata entirely\n",
    "    text = re.sub(r\"^Page \\d{1,3}.*\", \"\", text)  # Remove page number information\n",
    "    text = re.sub(r\"\\d{1,3}.*\", \"\", text)  # Remove any numeric references (like page numbers or codes)\n",
    "    text = re.sub(r\"Photograph.*\", \"\", text)  # Remove photograph references\n",
    "    text = re.sub(r\"Reproduced by permission.*\", \"\", text)  # Remove permission notice\n",
    "    text = re.sub(r\"\\s{2,}\", \" \", text)  # Replace multiple spaces with a single space\n",
    "\n",
    "    # Strip any trailing or leading spaces\n",
    "    return text.strip()\n",
    "\n",
    "# Apply cleaning to the retrieved documents\n",
    "def remove_metadata_from_documents(documents):\n",
    "    cleaned_documents = []\n",
    "    for doc in documents:\n",
    "        cleaned_content = clean_text(doc.page_content)\n",
    "        cleaned_documents.append(cleaned_content)\n",
    "    return cleaned_documents\n",
    "\n",
    "# Apply cleaning to test documents\n",
    "test_docs_cleaned = remove_metadata_from_documents(test_docs)\n",
    "\n",
    "# Print the cleaned documents\n",
    "for i, doc in enumerate(test_docs_cleaned):\n",
    "    print(f\"\\nCleaned Document {i+1}:\")\n",
    "    print(doc[:500])  # Show first 500 characters of the cleaned document\n"
   ]
  }
 ],
 "metadata": {
  "kernelspec": {
   "display_name": "medibot",
   "language": "python",
   "name": "python3"
  },
  "language_info": {
   "codemirror_mode": {
    "name": "ipython",
    "version": 3
   },
   "file_extension": ".py",
   "mimetype": "text/x-python",
   "name": "python",
   "nbconvert_exporter": "python",
   "pygments_lexer": "ipython3",
   "version": "3.10.16"
  }
 },
 "nbformat": 4,
 "nbformat_minor": 5
}
